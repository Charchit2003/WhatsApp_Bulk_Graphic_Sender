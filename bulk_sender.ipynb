{
 "cells": [
  {
   "cell_type": "code",
   "execution_count": 1,
   "metadata": {},
   "outputs": [
    {
     "name": "stdout",
     "output_type": "stream",
     "text": [
      "Requirement already satisfied: selenium in d:\\anaconda\\lib\\site-packages (4.29.0)\n",
      "Requirement already satisfied: urllib3[socks]<3,>=1.26 in d:\\anaconda\\lib\\site-packages (from selenium) (1.26.16)\n",
      "Requirement already satisfied: trio~=0.17 in d:\\anaconda\\lib\\site-packages (from selenium) (0.29.0)\n",
      "Requirement already satisfied: trio-websocket~=0.9 in d:\\anaconda\\lib\\site-packages (from selenium) (0.12.2)\n",
      "Requirement already satisfied: certifi>=2021.10.8 in d:\\anaconda\\lib\\site-packages (from selenium) (2023.11.17)\n",
      "Requirement already satisfied: typing_extensions~=4.9 in d:\\anaconda\\lib\\site-packages (from selenium) (4.12.2)\n",
      "Requirement already satisfied: websocket-client~=1.8 in d:\\anaconda\\lib\\site-packages (from selenium) (1.8.0)\n",
      "Requirement already satisfied: attrs>=23.2.0 in d:\\anaconda\\lib\\site-packages (from trio~=0.17->selenium) (25.1.0)\n",
      "Requirement already satisfied: sortedcontainers in d:\\anaconda\\lib\\site-packages (from trio~=0.17->selenium) (2.4.0)\n",
      "Requirement already satisfied: idna in d:\\anaconda\\lib\\site-packages (from trio~=0.17->selenium) (3.4)\n",
      "Requirement already satisfied: outcome in d:\\anaconda\\lib\\site-packages (from trio~=0.17->selenium) (1.3.0.post0)\n",
      "Requirement already satisfied: sniffio>=1.3.0 in d:\\anaconda\\lib\\site-packages (from trio~=0.17->selenium) (1.3.1)\n",
      "Requirement already satisfied: cffi>=1.14 in d:\\anaconda\\lib\\site-packages (from trio~=0.17->selenium) (1.15.1)\n",
      "Requirement already satisfied: wsproto>=0.14 in d:\\anaconda\\lib\\site-packages (from trio-websocket~=0.9->selenium) (1.2.0)\n",
      "Requirement already satisfied: PySocks!=1.5.7,<2.0,>=1.5.6 in d:\\anaconda\\lib\\site-packages (from urllib3[socks]<3,>=1.26->selenium) (1.7.1)\n",
      "Requirement already satisfied: pycparser in d:\\anaconda\\lib\\site-packages (from cffi>=1.14->trio~=0.17->selenium) (2.21)\n",
      "Requirement already satisfied: h11<1,>=0.9.0 in d:\\anaconda\\lib\\site-packages (from wsproto>=0.14->trio-websocket~=0.9->selenium) (0.14.0)\n",
      "Requirement already satisfied: pyautogui in d:\\anaconda\\lib\\site-packages (0.9.54)\n",
      "Requirement already satisfied: pymsgbox in d:\\anaconda\\lib\\site-packages (from pyautogui) (1.0.9)\n",
      "Requirement already satisfied: pytweening>=1.0.4 in d:\\anaconda\\lib\\site-packages (from pyautogui) (1.2.0)\n",
      "Requirement already satisfied: pyscreeze>=0.1.21 in d:\\anaconda\\lib\\site-packages (from pyautogui) (1.0.1)\n",
      "Requirement already satisfied: pygetwindow>=0.0.5 in d:\\anaconda\\lib\\site-packages (from pyautogui) (0.0.9)\n",
      "Requirement already satisfied: mouseinfo in d:\\anaconda\\lib\\site-packages (from pyautogui) (0.1.3)\n",
      "Requirement already satisfied: pyrect in d:\\anaconda\\lib\\site-packages (from pygetwindow>=0.0.5->pyautogui) (0.2.0)\n",
      "Requirement already satisfied: Pillow>=9.3.0 in d:\\anaconda\\lib\\site-packages (from pyscreeze>=0.1.21->pyautogui) (9.4.0)\n",
      "Requirement already satisfied: pyperclip in d:\\anaconda\\lib\\site-packages (from mouseinfo->pyautogui) (1.9.0)\n"
     ]
    }
   ],
   "source": [
    "!pip install selenium\n",
    "!pip install pyautogui"
   ]
  },
  {
   "cell_type": "code",
   "execution_count": 1,
   "metadata": {},
   "outputs": [],
   "source": [
    "from selenium import webdriver\n",
    "from selenium.webdriver.common.keys import Keys\n",
    "from selenium.webdriver.common.by import By\n",
    "from selenium.webdriver.support.ui import WebDriverWait\n",
    "from selenium.webdriver.support import expected_conditions as EC\n",
    "import pandas as pd\n",
    "import time\n",
    "import pyautogui\n",
    "import os\n",
    "import urllib.parse"
   ]
  },
  {
   "cell_type": "code",
   "execution_count": 3,
   "metadata": {},
   "outputs": [
    {
     "data": {
      "text/plain": [
       "''"
      ]
     },
     "execution_count": 3,
     "metadata": {},
     "output_type": "execute_result"
    }
   ],
   "source": [
    "# Open WhatsApp Web\n",
    "driver = webdriver.Chrome()  # Ensure you have the latest ChromeDriver\n",
    "driver.get(\"https://web.whatsapp.com/\")\n",
    "input(\"Press ENTER after scanning the QR code in WhatsApp Web...\")"
   ]
  },
  {
   "cell_type": "code",
   "execution_count": null,
   "metadata": {},
   "outputs": [],
   "source": [
    "# Load Excel file\n",
    "# df = pd.read_csv(\"D:/bulk-msg/test_file.csv\")\n",
    "print(df)"
   ]
  },
  {
   "cell_type": "code",
   "execution_count": 18,
   "metadata": {},
   "outputs": [],
   "source": [
    "# Function to send message with media\n",
    "def send_message(name, number, message, image_path, video_path):\n",
    "    # Open chat\n",
    "    try:\n",
    "        # Open chat\n",
    "        # URL encode the message\n",
    "        # url = f\"https://web.whatsapp.com/send?phone={number}&text={message}\"\n",
    "        url = f\"https://web.whatsapp.com/send?phone={number}\"\n",
    "        driver.get(url)\n",
    "        WebDriverWait(driver, 20).until(\n",
    "            EC.presence_of_element_located((By.XPATH, '//button[@title=\"Attach\"]'))\n",
    "        )# Increased wait time\n",
    "\n",
    "        print(f\"Opened WhatsApp Web for {name}\")\n",
    "        # Send media if file path exists\n",
    "        if image_path and os.path.exists(image_path):  \n",
    "            try:\n",
    "                # print(\"Attempting to attach file\")\n",
    "                attach_btn = WebDriverWait(driver, 3).until(\n",
    "                    EC.element_to_be_clickable((By.XPATH, '//button[@title=\"Attach\"]'))\n",
    "                )\n",
    "                driver.execute_script(\"arguments[0].click();\", attach_btn)\n",
    "                # print(\"Clicked attach button\")\n",
    "                time.sleep(1)\n",
    "\n",
    "                # Upload the file (image/video)\n",
    "                media_input = WebDriverWait(driver, 20).until(\n",
    "                    EC.presence_of_element_located((By.XPATH, '//input[@accept=\"image/*,video/mp4,video/3gpp,video/quicktime\"]'))\n",
    "                )\n",
    "                # print(\"Found media input element\")\n",
    "\n",
    "                media_input.send_keys(os.path.abspath(image_path))\n",
    "                print(f\"Sent file path: {os.path.abspath(image_path)}\")\n",
    "\n",
    "                # Wait for media upload (increase if needed)\n",
    "                time.sleep(1)  # Increased wait time\n",
    "\n",
    "                # Click the send button\n",
    "                send_button = WebDriverWait(driver, 5).until(\n",
    "                    EC.element_to_be_clickable((By.XPATH, '//span[@data-icon=\"send\"]'))\n",
    "                )\n",
    "                send_button.click()\n",
    "                print(f\"Clicked send button for {name}\")\n",
    "                time.sleep(1)\n",
    "\n",
    "            except Exception as e:\n",
    "                print(f\"Error in poster sending process: {e}\")\n",
    "\n",
    "        if video_path and os.path.exists(video_path):\n",
    "            try:\n",
    "                # print(\"Attempting to attach file\")\n",
    "                attach_btn = WebDriverWait(driver, 3).until(\n",
    "                    EC.element_to_be_clickable((By.XPATH, '//button[@title=\"Attach\"]'))\n",
    "                )\n",
    "                driver.execute_script(\"arguments[0].click();\", attach_btn)\n",
    "                # print(\"Clicked attach button\")\n",
    "                time.sleep(1)\n",
    "\n",
    "                # Upload the file (image/video)\n",
    "                media_input = WebDriverWait(driver, 20).until(\n",
    "                    EC.presence_of_element_located((By.XPATH, '//input[@accept=\"image/*,video/mp4,video/3gpp,video/quicktime\"]'))\n",
    "                )\n",
    "                # print(\"Found media input element\")\n",
    "\n",
    "                media_input.send_keys(os.path.abspath(video_path))\n",
    "                print(f\"Sent file path: {os.path.abspath(video_path)}\")\n",
    "\n",
    "                # Wait for media upload (increase if needed)\n",
    "                time.sleep(1)  # Increased wait time\n",
    "\n",
    "                # Click the send button\n",
    "                send_button = WebDriverWait(driver, 5).until(\n",
    "                    EC.element_to_be_clickable((By.XPATH, '//span[@data-icon=\"send\"]'))\n",
    "                )\n",
    "                send_button.click()\n",
    "                print(f\"Clicked send button for {name}\")\n",
    "                time.sleep(1)\n",
    "\n",
    "            except Exception as e:\n",
    "                print(f\"Error in video sending process: {e}\")\n",
    "            \n",
    "        else:\n",
    "            # Send message (if no media)\n",
    "            pyautogui.press(\"enter\")\n",
    "            print(\"Sent message without media\")\n",
    "            time.sleep(5)\n",
    "\n",
    "    except Exception as e:\n",
    "        print(f\"Error in main function: {e}\")\n"
   ]
  },
  {
   "cell_type": "code",
   "execution_count": null,
   "metadata": {},
   "outputs": [],
   "source": []
  },
  {
   "cell_type": "code",
   "execution_count": null,
   "metadata": {},
   "outputs": [],
   "source": [
    "# Loop through contacts and send messages\n",
    "for index, row in df.iterrows():\n",
    "    name = str(row[\"Name\"])\n",
    "    number = str(row[\"Mobile Number With Code\"])\n",
    "    message = \"\"\n",
    "    video_path = \"\"\n",
    "    image_path = \"\"\n",
    "    encoded_message = urllib.parse.quote(message)\n",
    "\n",
    "    try: \n",
    "        send_message(name, number, encoded_message, image_path, video_path)\n",
    "        # print(f\"Sent file path: {os.path.abspath(video_path)}\")\n",
    "    except Exception as e:\n",
    "        print(f\"File Not sent to {name}\")"
   ]
  },
  {
   "cell_type": "code",
   "execution_count": 5,
   "metadata": {},
   "outputs": [],
   "source": [
    "# Close browser\n",
    "driver.quit()"
   ]
  }
 ],
 "metadata": {
  "kernelspec": {
   "display_name": "base",
   "language": "python",
   "name": "python3"
  },
  "language_info": {
   "codemirror_mode": {
    "name": "ipython",
    "version": 3
   },
   "file_extension": ".py",
   "mimetype": "text/x-python",
   "name": "python",
   "nbconvert_exporter": "python",
   "pygments_lexer": "ipython3",
   "version": "3.11.5"
  }
 },
 "nbformat": 4,
 "nbformat_minor": 2
}
